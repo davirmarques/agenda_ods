{
 "cells": [
  {
   "cell_type": "code",
   "execution_count": 1,
   "id": "23d7eb6e",
   "metadata": {},
   "outputs": [],
   "source": [
    "import pandas as pd\n",
    "import plotly.express as px\n",
    "import plotly.express as px\n",
    "import plotly\n",
    "import pandas as pd\n",
    "import plotly.figure_factory as ff\n",
    "from datetime import datetime\n",
    "import matplotlib\n",
    "import matplotlib.pyplot as plt\n",
    "import datetime"
   ]
  },
  {
   "cell_type": "code",
   "execution_count": null,
   "id": "5309f389",
   "metadata": {},
   "outputs": [],
   "source": [
    "df = pd.read_csv(\"Gannt_versao_1.csv\")"
   ]
  },
  {
   "cell_type": "code",
   "execution_count": null,
   "id": "1cd234aa",
   "metadata": {},
   "outputs": [],
   "source": [
    "df = pd.read_csv(\"Gannt_versao_2.csv\")"
   ]
  },
  {
   "cell_type": "code",
   "execution_count": 12,
   "id": "3b5c95c2",
   "metadata": {},
   "outputs": [],
   "source": [
    "df = pd.read_csv(\"Gannt_versao_3.csv\")"
   ]
  },
  {
   "cell_type": "code",
   "execution_count": 13,
   "id": "726572cc",
   "metadata": {},
   "outputs": [
    {
     "data": {
      "text/html": [
       "<div>\n",
       "<style scoped>\n",
       "    .dataframe tbody tr th:only-of-type {\n",
       "        vertical-align: middle;\n",
       "    }\n",
       "\n",
       "    .dataframe tbody tr th {\n",
       "        vertical-align: top;\n",
       "    }\n",
       "\n",
       "    .dataframe thead th {\n",
       "        text-align: right;\n",
       "    }\n",
       "</style>\n",
       "<table border=\"1\" class=\"dataframe\">\n",
       "  <thead>\n",
       "    <tr style=\"text-align: right;\">\n",
       "      <th></th>\n",
       "      <th>Tarefa</th>\n",
       "      <th>Início</th>\n",
       "      <th>Fim</th>\n",
       "      <th>Responsável</th>\n",
       "      <th>Completo</th>\n",
       "    </tr>\n",
       "  </thead>\n",
       "  <tbody>\n",
       "    <tr>\n",
       "      <th>0</th>\n",
       "      <td>Definição dos objetivos e resultados esperados</td>\n",
       "      <td>2023-05-01</td>\n",
       "      <td>2023-05-29</td>\n",
       "      <td>Pré-visitas</td>\n",
       "      <td>100</td>\n",
       "    </tr>\n",
       "    <tr>\n",
       "      <th>1</th>\n",
       "      <td>Definição das comunidades</td>\n",
       "      <td>2023-05-01</td>\n",
       "      <td>2023-05-29</td>\n",
       "      <td>Pré-visitas</td>\n",
       "      <td>100</td>\n",
       "    </tr>\n",
       "  </tbody>\n",
       "</table>\n",
       "</div>"
      ],
      "text/plain": [
       "                                           Tarefa      Início         Fim  \\\n",
       "0  Definição dos objetivos e resultados esperados  2023-05-01  2023-05-29   \n",
       "1                       Definição das comunidades  2023-05-01  2023-05-29   \n",
       "\n",
       "   Responsável  Completo  \n",
       "0  Pré-visitas       100  \n",
       "1  Pré-visitas       100  "
      ]
     },
     "execution_count": 13,
     "metadata": {},
     "output_type": "execute_result"
    }
   ],
   "source": [
    "df.head(2)"
   ]
  },
  {
   "cell_type": "code",
   "execution_count": 14,
   "id": "bfcd6b4c",
   "metadata": {},
   "outputs": [
    {
     "data": {
      "text/plain": [
       "Index(['Tarefa', 'Início', 'Fim', 'Responsável', 'Completo'], dtype='object')"
      ]
     },
     "execution_count": 14,
     "metadata": {},
     "output_type": "execute_result"
    }
   ],
   "source": [
    "df.columns"
   ]
  },
  {
   "cell_type": "markdown",
   "id": "52f9a71f",
   "metadata": {},
   "source": [
    "## 1° Tentativa"
   ]
  },
  {
   "cell_type": "code",
   "execution_count": 15,
   "id": "f191c9df",
   "metadata": {},
   "outputs": [
    {
     "data": {
      "text/plain": [
       "Index(['Tarefa', 'Início', 'Fim', 'Responsável', 'Completo'], dtype='object')"
      ]
     },
     "execution_count": 15,
     "metadata": {},
     "output_type": "execute_result"
    }
   ],
   "source": [
    "df.columns"
   ]
  },
  {
   "cell_type": "code",
   "execution_count": 16,
   "id": "06006809",
   "metadata": {},
   "outputs": [
    {
     "data": {
      "text/html": [
       "<div>\n",
       "<style scoped>\n",
       "    .dataframe tbody tr th:only-of-type {\n",
       "        vertical-align: middle;\n",
       "    }\n",
       "\n",
       "    .dataframe tbody tr th {\n",
       "        vertical-align: top;\n",
       "    }\n",
       "\n",
       "    .dataframe thead th {\n",
       "        text-align: right;\n",
       "    }\n",
       "</style>\n",
       "<table border=\"1\" class=\"dataframe\">\n",
       "  <thead>\n",
       "    <tr style=\"text-align: right;\">\n",
       "      <th></th>\n",
       "      <th>Tarefa</th>\n",
       "      <th>Início</th>\n",
       "      <th>Fim</th>\n",
       "      <th>Responsável</th>\n",
       "      <th>Completo</th>\n",
       "    </tr>\n",
       "  </thead>\n",
       "  <tbody>\n",
       "    <tr>\n",
       "      <th>0</th>\n",
       "      <td>Definição dos objetivos e resultados esperados</td>\n",
       "      <td>2023-05-01</td>\n",
       "      <td>2023-05-29</td>\n",
       "      <td>Pré-visitas</td>\n",
       "      <td>100</td>\n",
       "    </tr>\n",
       "    <tr>\n",
       "      <th>1</th>\n",
       "      <td>Definição das comunidades</td>\n",
       "      <td>2023-05-01</td>\n",
       "      <td>2023-05-29</td>\n",
       "      <td>Pré-visitas</td>\n",
       "      <td>100</td>\n",
       "    </tr>\n",
       "    <tr>\n",
       "      <th>2</th>\n",
       "      <td>Articulação com as comunidades</td>\n",
       "      <td>2023-05-01</td>\n",
       "      <td>2023-05-29</td>\n",
       "      <td>Pré-visitas</td>\n",
       "      <td>100</td>\n",
       "    </tr>\n",
       "    <tr>\n",
       "      <th>3</th>\n",
       "      <td>Elaboração dos itinerários</td>\n",
       "      <td>2023-06-01</td>\n",
       "      <td>2023-06-29</td>\n",
       "      <td>Pré-visitas</td>\n",
       "      <td>100</td>\n",
       "    </tr>\n",
       "    <tr>\n",
       "      <th>4</th>\n",
       "      <td>Definição e planejamento logístico</td>\n",
       "      <td>2023-06-01</td>\n",
       "      <td>2023-06-29</td>\n",
       "      <td>Pré-visitas</td>\n",
       "      <td>100</td>\n",
       "    </tr>\n",
       "    <tr>\n",
       "      <th>5</th>\n",
       "      <td>Aprovação Somo Um e Pacto Global</td>\n",
       "      <td>2023-06-01</td>\n",
       "      <td>2023-06-29</td>\n",
       "      <td>Pré-visitas</td>\n",
       "      <td>100</td>\n",
       "    </tr>\n",
       "    <tr>\n",
       "      <th>6</th>\n",
       "      <td>Preparação dos materiais de preparação para AP...</td>\n",
       "      <td>2023-07-01</td>\n",
       "      <td>2023-07-29</td>\n",
       "      <td>Pré-visitas</td>\n",
       "      <td>100</td>\n",
       "    </tr>\n",
       "    <tr>\n",
       "      <th>7</th>\n",
       "      <td>Orientação aos pontos focais das comunidades</td>\n",
       "      <td>2023-07-01</td>\n",
       "      <td>2023-07-29</td>\n",
       "      <td>Pré-visitas</td>\n",
       "      <td>100</td>\n",
       "    </tr>\n",
       "    <tr>\n",
       "      <th>8</th>\n",
       "      <td>Orientação aos monitores da Somos Um e Staff</td>\n",
       "      <td>2023-07-01</td>\n",
       "      <td>2023-07-29</td>\n",
       "      <td>Pré-visitas</td>\n",
       "      <td>100</td>\n",
       "    </tr>\n",
       "    <tr>\n",
       "      <th>9</th>\n",
       "      <td>Inscrições dos participantes</td>\n",
       "      <td>2023-08-01</td>\n",
       "      <td>2023-08-29</td>\n",
       "      <td>Pré-visitas</td>\n",
       "      <td>100</td>\n",
       "    </tr>\n",
       "    <tr>\n",
       "      <th>10</th>\n",
       "      <td>Confirmações Finais</td>\n",
       "      <td>2023-08-01</td>\n",
       "      <td>2023-08-29</td>\n",
       "      <td>Pré-visitas</td>\n",
       "      <td>100</td>\n",
       "    </tr>\n",
       "    <tr>\n",
       "      <th>11</th>\n",
       "      <td>Realização das visitas</td>\n",
       "      <td>2023-08-01</td>\n",
       "      <td>2023-08-29</td>\n",
       "      <td>visitas</td>\n",
       "      <td>0</td>\n",
       "    </tr>\n",
       "    <tr>\n",
       "      <th>12</th>\n",
       "      <td>Avaliação de satisfação</td>\n",
       "      <td>2023-08-01</td>\n",
       "      <td>2023-08-29</td>\n",
       "      <td>visitas</td>\n",
       "      <td>0</td>\n",
       "    </tr>\n",
       "    <tr>\n",
       "      <th>13</th>\n",
       "      <td>Elaboração do relatório final</td>\n",
       "      <td>2023-08-01</td>\n",
       "      <td>2023-08-29</td>\n",
       "      <td>Pós-visitas</td>\n",
       "      <td>0</td>\n",
       "    </tr>\n",
       "    <tr>\n",
       "      <th>14</th>\n",
       "      <td>Divulgação dos resultados</td>\n",
       "      <td>2023-08-01</td>\n",
       "      <td>2023-08-29</td>\n",
       "      <td>Pós-visitas</td>\n",
       "      <td>0</td>\n",
       "    </tr>\n",
       "    <tr>\n",
       "      <th>15</th>\n",
       "      <td>Lições Aprendidas</td>\n",
       "      <td>2023-08-01</td>\n",
       "      <td>2023-08-29</td>\n",
       "      <td>Pós-visitas</td>\n",
       "      <td>0</td>\n",
       "    </tr>\n",
       "  </tbody>\n",
       "</table>\n",
       "</div>"
      ],
      "text/plain": [
       "                                               Tarefa      Início         Fim  \\\n",
       "0      Definição dos objetivos e resultados esperados  2023-05-01  2023-05-29   \n",
       "1                           Definição das comunidades  2023-05-01  2023-05-29   \n",
       "2                      Articulação com as comunidades  2023-05-01  2023-05-29   \n",
       "3                          Elaboração dos itinerários  2023-06-01  2023-06-29   \n",
       "4                  Definição e planejamento logístico  2023-06-01  2023-06-29   \n",
       "5                    Aprovação Somo Um e Pacto Global  2023-06-01  2023-06-29   \n",
       "6   Preparação dos materiais de preparação para AP...  2023-07-01  2023-07-29   \n",
       "7        Orientação aos pontos focais das comunidades  2023-07-01  2023-07-29   \n",
       "8        Orientação aos monitores da Somos Um e Staff  2023-07-01  2023-07-29   \n",
       "9                        Inscrições dos participantes  2023-08-01  2023-08-29   \n",
       "10                                Confirmações Finais  2023-08-01  2023-08-29   \n",
       "11                             Realização das visitas  2023-08-01  2023-08-29   \n",
       "12                            Avaliação de satisfação  2023-08-01  2023-08-29   \n",
       "13                      Elaboração do relatório final  2023-08-01  2023-08-29   \n",
       "14                          Divulgação dos resultados  2023-08-01  2023-08-29   \n",
       "15                                  Lições Aprendidas  2023-08-01  2023-08-29   \n",
       "\n",
       "    Responsável  Completo  \n",
       "0   Pré-visitas       100  \n",
       "1   Pré-visitas       100  \n",
       "2   Pré-visitas       100  \n",
       "3   Pré-visitas       100  \n",
       "4   Pré-visitas       100  \n",
       "5   Pré-visitas       100  \n",
       "6   Pré-visitas       100  \n",
       "7   Pré-visitas       100  \n",
       "8   Pré-visitas       100  \n",
       "9   Pré-visitas       100  \n",
       "10  Pré-visitas       100  \n",
       "11      visitas         0  \n",
       "12      visitas         0  \n",
       "13  Pós-visitas         0  \n",
       "14  Pós-visitas         0  \n",
       "15  Pós-visitas         0  "
      ]
     },
     "metadata": {},
     "output_type": "display_data"
    }
   ],
   "source": [
    "display (df)"
   ]
  },
  {
   "cell_type": "code",
   "execution_count": 17,
   "id": "eba8b6ef",
   "metadata": {},
   "outputs": [],
   "source": [
    "tarefas = df['Tarefa']\n",
    "responsaveis = df['Responsável']\n",
    "data_inicio = df['Início']\n",
    "data_final = df['Fim']\n",
    "perc_completado = df['Completo']"
   ]
  },
  {
   "cell_type": "code",
   "execution_count": 26,
   "id": "3a8ddbfb",
   "metadata": {},
   "outputs": [],
   "source": [
    "x_start = data_inicio\n",
    "x_end   = data_final\n",
    "y       = tarefas"
   ]
  },
  {
   "cell_type": "code",
   "execution_count": 27,
   "id": "06c4dbc9",
   "metadata": {},
   "outputs": [],
   "source": [
    "def grafico_gantt():\n",
    "    # Criando grafico de Gantt\n",
    "    grafico = px.timeline(df,\n",
    "                          x_start,\n",
    "                          x_end,\n",
    "                          y=tarefas,\n",
    "                          color=perc_completado,\n",
    "                          title='Planejamento Encontro com Comunidades Conexão ODS ',\n",
    "                          color_continuous_scale=px.colors.sequential.Magenta)\n",
    "\n",
    "    \n",
    "    \n",
    "    grafico.update_layout(\n",
    "        title_font_size=40,\n",
    "        font_size=18,\n",
    "        title_font_family='Arial'\n",
    "    \n",
    "    )\n",
    "\n",
    "\n",
    "\n",
    "    # Reordenando o gráfico\n",
    "    grafico.update_yaxes(autorange='reversed')\n",
    "\n",
    "    return grafico"
   ]
  },
  {
   "cell_type": "code",
   "execution_count": 28,
   "id": "2110a279",
   "metadata": {},
   "outputs": [],
   "source": [
    "def salvar_grafico_p_html(grafico):\n",
    "    plotly.offline.plot(grafico, filename='Grafico_Gantt.html')"
   ]
  },
  {
   "cell_type": "code",
   "execution_count": 29,
   "id": "8a009a7d",
   "metadata": {},
   "outputs": [],
   "source": [
    "gantt = grafico_gantt()\n",
    "salvar_grafico_p_html(grafico=gantt)"
   ]
  },
  {
   "cell_type": "markdown",
   "id": "478cfd51",
   "metadata": {},
   "source": []
  },
  {
   "cell_type": "code",
   "execution_count": null,
   "id": "d623efa2",
   "metadata": {},
   "outputs": [],
   "source": []
  }
 ],
 "metadata": {
  "kernelspec": {
   "display_name": "Python 3 (ipykernel)",
   "language": "python",
   "name": "python3"
  },
  "language_info": {
   "codemirror_mode": {
    "name": "ipython",
    "version": 3
   },
   "file_extension": ".py",
   "mimetype": "text/x-python",
   "name": "python",
   "nbconvert_exporter": "python",
   "pygments_lexer": "ipython3",
   "version": "3.8.10"
  }
 },
 "nbformat": 4,
 "nbformat_minor": 5
}
